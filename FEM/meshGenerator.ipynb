{
 "cells": [
  {
   "cell_type": "code",
   "execution_count": 1,
   "id": "e37a9760-a4d9-4a2a-b28f-04a6580b1601",
   "metadata": {},
   "outputs": [
    {
     "name": "stdout",
     "output_type": "stream",
     "text": [
      "Setup Complete\n"
     ]
    }
   ],
   "source": [
    "import pandas as pd\n",
    "import numpy as np\n",
    "pd.plotting.register_matplotlib_converters()\n",
    "import matplotlib.pyplot as plt\n",
    "%matplotlib inline\n",
    "import seaborn as sns\n",
    "print(\"Setup Complete\")"
   ]
  },
  {
   "cell_type": "code",
   "execution_count": 2,
   "id": "ead3210d-9828-449e-bb32-099727d3f8d9",
   "metadata": {},
   "outputs": [
    {
     "data": {
      "image/png": "[encoded data removed]",
      "text/plain": [
       "<Figure size 640x480 with 1 Axes>"
      ]
     },
     "metadata": {},
     "output_type": "display_data"
    },
    {
     "name": "stdout",
     "output_type": "stream",
     "text": [
      "Connectivity Table:\n",
      "[[ 0  1  6]\n",
      " [ 7  6  1]\n",
      " [ 1  2  7]\n",
      " [ 8  7  2]\n",
      " [ 2  3  8]\n",
      " [ 9  8  3]\n",
      " [ 3  4  9]\n",
      " [10  9  4]\n",
      " [ 4  5 10]\n",
      " [11 10  5]\n",
      " [ 6  7 12]\n",
      " [13 12  7]\n",
      " [ 7  8 13]\n",
      " [14 13  8]\n",
      " [ 8  9 14]\n",
      " [15 14  9]\n",
      " [ 9 10 15]\n",
      " [16 15 10]\n",
      " [10 11 16]\n",
      " [17 16 11]\n",
      " [12 13 18]\n",
      " [19 18 13]\n",
      " [13 14 19]\n",
      " [20 19 14]\n",
      " [14 15 20]\n",
      " [21 20 15]\n",
      " [15 16 21]\n",
      " [22 21 16]\n",
      " [16 17 22]\n",
      " [23 22 17]\n",
      " [18 19 24]\n",
      " [25 24 19]\n",
      " [19 20 25]\n",
      " [26 25 20]\n",
      " [20 21 26]\n",
      " [27 26 21]\n",
      " [21 22 27]\n",
      " [28 27 22]\n",
      " [22 23 28]\n",
      " [29 28 23]\n",
      " [24 25 30]\n",
      " [31 30 25]\n",
      " [25 26 31]\n",
      " [32 31 26]\n",
      " [26 27 32]\n",
      " [33 32 27]\n",
      " [27 28 33]\n",
      " [34 33 28]\n",
      " [28 29 34]\n",
      " [35 34 29]]\n"
     ]
    }
   ],
   "source": [
    "width = 0.4\n",
    "height = 0.6\n",
    "num_x_div = 5\n",
    "num_y_div = 5\n",
    "x = np.linspace(0, width, num_x_div + 1)\n",
    "y = np.linspace(0, height, num_y_div + 1)\n",
    "X, Y = np.meshgrid(x, y)\n",
    "points = np.vstack((X.flatten(), Y.flatten())).T\n",
    "\n",
    "# Create triangular connectivity\n",
    "triangles = []\n",
    "for i in range(num_y_div):\n",
    "    for j in range(num_x_div):\n",
    "        p1 = i * (num_x_div + 1) + j\n",
    "        p2 = p1 + 1\n",
    "        p3 = p1 + (num_x_div + 1)\n",
    "        p4 = p3 + 1\n",
    "        triangles.append([p1, p2, p3])\n",
    "        triangles.append([p4, p3, p2])\n",
    "\n",
    "triangles = np.array(triangles)# Convert to 1-based indexing\n",
    "# Plot the mesh\n",
    "plt.triplot(points[:, 0], points[:, 1], triangles)\n",
    "plt.gca().set_aspect('equal')\n",
    "plt.show()\n",
    "\n",
    "# Display the connectivity table\n",
    "print(\"Connectivity Table:\")\n",
    "print(triangles)"
   ]
  },
  {
   "cell_type": "code",
   "execution_count": 4,
   "id": "b8ef4c2b-fd5d-41d5-89b5-d73baaebd053",
   "metadata": {},
   "outputs": [],
   "source": [
    "def mesh_generator(width, height, num_x_div, num_y_div):\n",
    "    # Generate grid points\n",
    "    x = np.linspace(0, width, num_x_div + 1)\n",
    "    y = np.linspace(0, height, num_y_div + 1)\n",
    "    X, Y = np.meshgrid(x, y)\n",
    "    points = np.vstack((X.flatten(), Y.flatten())).T\n",
    "\n",
    "    # Create triangular connectivity\n",
    "    triangles = []\n",
    "    for i in range(num_y_div):\n",
    "        for j in range(num_x_div):\n",
    "            p1 = i * (num_x_div + 1) + j\n",
    "            p2 = p1 + 1\n",
    "            p3 = p1 + (num_x_div + 1)\n",
    "            p4 = p3 + 1\n",
    "            triangles.append([p1, p2, p3])\n",
    "            triangles.append([p4, p3, p2])\n",
    "\n",
    "    triangles = np.array(triangles) + 1  # Convert to 1-based indexing\n",
    "    return points, triangles"
   ]
  },
  {
   "cell_type": "code",
   "execution_count": 5,
   "id": "8f26968b-3029-4c41-80c6-dddb77f9c192",
   "metadata": {},
   "outputs": [],
   "source": [
    "domain_width = 0.4\n",
    "domain_height = 0.6\n",
    "no_of_elem_x = 5\n",
    "no_of_elem_y = 5\n",
    "nodes, connectivity_matrix = mesh_generator(domain_width, domain_height, no_of_elem_x, no_of_elem_y)"
   ]
  },
  {
   "cell_type": "code",
   "execution_count": 13,
   "id": "4518a122-bf86-4a11-b695-ebe5de321277",
   "metadata": {},
   "outputs": [],
   "source": [
    "def mesh_data_generator(points, triangles, num_x_div, num_y_div, width, height, filename='mesh_data'):\n",
    "    with open(filename+\".dat\", 'w') as f:\n",
    "        f.write(f\"TITLE = {file_name}\\n\")\n",
    "        f.write(f\"ELEMENTS = {len(triangles)}\\n\")\n",
    "        \n",
    "        for i, tri in enumerate(triangles, start=1):\n",
    "            f.write(f\"{i}\\t{tri[0]}\\t{tri[1]}\\t{tri[2]}\\t1.5\\n\")\n",
    "        \n",
    "        f.write(\"\\nNODE_COORDINATES = {}\\n\".format(len(points)))\n",
    "        \n",
    "        for i, point in enumerate(points, start=1):\n",
    "            f.write(f\"{i}\\t{point[0]}\\t{point[1]}\\t0.0\\n\")\n",
    "        \n",
    "        f.write(f\"\\nNODES_WITH_PRESCRIBED_TEMPERATURE = {(num_x_div + 1) * 2 + (num_y_div + 1)*2 - 4}\\n\")\n",
    "        \n",
    "        for i, point in enumerate(points, start = 1):\n",
    "            if point[1] == height:\n",
    "                f.write(f\"{i}\\t180.000\\n\")\n",
    "                continue\n",
    "            if point[0] == 0:\n",
    "                f.write(f\"{i}\\t0.000\\n\")\n",
    "                continue\n",
    "            if point[1] == 0:\n",
    "                f.write(f\"{i}\\t0.000\\n\")\n",
    "                continue\n",
    "            if point[0] == width:\n",
    "                f.write(f\"{i}\\t0.000\\n\")\n",
    "                continue\n",
    "        \n",
    "        f.write(\"\\nEDGES_WITH_PRESCRIBED_CONVECTION = 0\\n\")\n",
    "        f.write(\"\\nEDGES_WITH_PRESCRIBED_NON_ZERO_HEAT_FLUX = 0\\n\")\n",
    "\n",
    "    print(f\"Mesh data file generated: {filename}\")"
   ]
  },
  {
   "cell_type": "code",
   "execution_count": 14,
   "id": "8ca14371-f341-4251-b313-3591b07d5e79",
   "metadata": {},
   "outputs": [
    {
     "name": "stdout",
     "output_type": "stream",
     "text": [
      "Mesh data file generated: Mesh1\n"
     ]
    }
   ],
   "source": [
    "domain_width = 0.4\n",
    "domain_height = 0.6\n",
    "no_of_elem_x = 2\n",
    "no_of_elem_y = 4\n",
    "nodes, connectivity_matrix = mesh_generator(domain_width, domain_height, no_of_elem_x, no_of_elem_y)\n",
    "file_name = \"Mesh1\"\n",
    "mesh_data_generator(nodes, connectivity_matrix,no_of_elem_x, no_of_elem_y, domain_width, domain_height, file_name)"
   ]
  },
  {
   "cell_type": "code",
   "execution_count": 15,
   "id": "a240fd07-fb8a-45e8-af0f-a5d4d9e33973",
   "metadata": {},
   "outputs": [
    {
     "name": "stdout",
     "output_type": "stream",
     "text": [
      "Mesh data file generated: Mesh2\n"
     ]
    }
   ],
   "source": [
    "domain_width = 0.4\n",
    "domain_height = 0.6\n",
    "no_of_elem_x = 2\n",
    "no_of_elem_y = 2\n",
    "nodes, connectivity_matrix = mesh_generator(domain_width, domain_height, no_of_elem_x, no_of_elem_y)\n",
    "file_name = \"Mesh2\"\n",
    "mesh_data_generator(nodes, connectivity_matrix,no_of_elem_x, no_of_elem_y, domain_width, domain_height, file_name)"
   ]
  },
  {
   "cell_type": "code",
   "execution_count": 16,
   "id": "d96b049f-5957-4a7c-9c89-5a8c250d292d",
   "metadata": {},
   "outputs": [
    {
     "name": "stdout",
     "output_type": "stream",
     "text": [
      "Mesh data file generated: Mesh3\n"
     ]
    }
   ],
   "source": [
    "domain_width = 0.4\n",
    "domain_height = 0.6\n",
    "no_of_elem_x = 1\n",
    "no_of_elem_y = 2\n",
    "nodes, connectivity_matrix = mesh_generator(domain_width, domain_height, no_of_elem_x, no_of_elem_y)\n",
    "file_name = \"Mesh3\"\n",
    "mesh_data_generator(nodes, connectivity_matrix,no_of_elem_x, no_of_elem_y, domain_width, domain_height, file_name)"
   ]
  },
  {
   "cell_type": "code",
   "execution_count": null,
   "id": "8623b7ba-b0b0-414f-8a77-fda6dde572af",
   "metadata": {},
   "outputs": [],
   "source": []
  }
 ],
 "metadata": {
  "kernelspec": {
   "display_name": "Python 3 (ipykernel)",
   "language": "python",
   "name": "python3"
  },
  "language_info": {
   "codemirror_mode": {
    "name": "ipython",
    "version": 3
   },
   "file_extension": ".py",
   "mimetype": "text/x-python",
   "name": "python",
   "nbconvert_exporter": "python",
   "pygments_lexer": "ipython3",
   "version": "3.12.3"
  }
 },
 "nbformat": 4,
 "nbformat_minor": 5
}
