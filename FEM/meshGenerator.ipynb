{
 "cells": [
  {
   "cell_type": "code",
   "execution_count": 4,
   "id": "e37a9760-a4d9-4a2a-b28f-04a6580b1601",
   "metadata": {},
   "outputs": [
    {
     "name": "stdout",
     "output_type": "stream",
     "text": [
      "Setup Complete\n"
     ]
    }
   ],
   "source": [
    "import pandas as pd\n",
    "import numpy as np\n",
    "pd.plotting.register_matplotlib_converters()\n",
    "import matplotlib.pyplot as plt\n",
    "%matplotlib inline\n",
    "import seaborn as sns\n",
    "print(\"Setup Complete\")"
   ]
  },
  {
   "cell_type": "code",
   "execution_count": 5,
   "id": "ead3210d-9828-449e-bb32-099727d3f8d9",
   "metadata": {},
   "outputs": [
    {
     "data": {
      "image/png": "[encoded data removed]",
      "text/plain": [
       "<Figure size 640x480 with 1 Axes>"
      ]
     },
     "metadata": {},
     "output_type": "display_data"
    },
    {
     "name": "stdout",
     "output_type": "stream",
     "text": [
      "Connectivity Table:\n",
      "[[ 0  1  7]\n",
      " [ 7  6  0]\n",
      " [ 1  2  8]\n",
      " [ 8  7  1]\n",
      " [ 2  3  9]\n",
      " [ 9  8  2]\n",
      " [ 3  4 10]\n",
      " [10  9  3]\n",
      " [ 4  5 11]\n",
      " [11 10  4]\n",
      " [ 6  7 13]\n",
      " [13 12  6]\n",
      " [ 7  8 14]\n",
      " [14 13  7]\n",
      " [ 8  9 15]\n",
      " [15 14  8]\n",
      " [ 9 10 16]\n",
      " [16 15  9]\n",
      " [10 11 17]\n",
      " [17 16 10]\n",
      " [12 13 19]\n",
      " [19 18 12]\n",
      " [13 14 20]\n",
      " [20 19 13]\n",
      " [14 15 21]\n",
      " [21 20 14]\n",
      " [15 16 22]\n",
      " [22 21 15]\n",
      " [16 17 23]\n",
      " [23 22 16]\n",
      " [18 19 25]\n",
      " [25 24 18]\n",
      " [19 20 26]\n",
      " [26 25 19]\n",
      " [20 21 27]\n",
      " [27 26 20]\n",
      " [21 22 28]\n",
      " [28 27 21]\n",
      " [22 23 29]\n",
      " [29 28 22]\n",
      " [24 25 31]\n",
      " [31 30 24]\n",
      " [25 26 32]\n",
      " [32 31 25]\n",
      " [26 27 33]\n",
      " [33 32 26]\n",
      " [27 28 34]\n",
      " [34 33 27]\n",
      " [28 29 35]\n",
      " [35 34 28]]\n"
     ]
    }
   ],
   "source": [
    "width = 0.4\n",
    "height = 0.6\n",
    "num_x_div = 5\n",
    "num_y_div = 5\n",
    "x = np.linspace(0, width, num_x_div + 1)\n",
    "y = np.linspace(0, height, num_y_div + 1)\n",
    "X, Y = np.meshgrid(x, y)\n",
    "points = np.vstack((X.flatten(), Y.flatten())).T\n",
    "\n",
    "# Create triangular connectivity\n",
    "triangles = []\n",
    "for i in range(num_y_div):\n",
    "    for j in range(num_x_div):\n",
    "        p1 = i * (num_x_div + 1) + j\n",
    "        p2 = p1 + 1\n",
    "        p3 = p1 + (num_x_div + 1)\n",
    "        p4 = p3 + 1\n",
    "        triangles.append([p1, p2, p4])\n",
    "        triangles.append([p4, p3, p1])\n",
    "\n",
    "triangles = np.array(triangles)# Convert to 1-based indexing\n",
    "# Plot the mesh\n",
    "plt.triplot(points[:, 0], points[:, 1], triangles)\n",
    "plt.gca().set_aspect('equal')\n",
    "plt.show()\n",
    "\n",
    "# Display the connectivity table\n",
    "print(\"Connectivity Table:\")\n",
    "print(triangles)"
   ]
  },
  {
   "cell_type": "code",
   "execution_count": 6,
   "id": "b8ef4c2b-fd5d-41d5-89b5-d73baaebd053",
   "metadata": {},
   "outputs": [],
   "source": [
    "def mesh_generator(width, height, num_x_div, num_y_div):\n",
    "    # Generate grid points\n",
    "    x = np.linspace(0, width, num_x_div + 1)\n",
    "    y = np.linspace(0, height, num_y_div + 1)\n",
    "    X, Y = np.meshgrid(x, y)\n",
    "    points = np.vstack((X.flatten(), Y.flatten())).T\n",
    "\n",
    "    # Create triangular connectivity\n",
    "    triangles = []\n",
    "    for i in range(num_y_div):\n",
    "        for j in range(num_x_div):\n",
    "            p1 = i * (num_x_div + 1) + j\n",
    "            p2 = p1 + 1\n",
    "            p3 = p1 + (num_x_div + 1)\n",
    "            p4 = p3 + 1\n",
    "            triangles.append([p1, p2, p4])\n",
    "            triangles.append([p4, p3, p1])\n",
    "\n",
    "    triangles = np.array(triangles) + 1  # Convert to 1-based indexing\n",
    "    return points, triangles"
   ]
  },
  {
   "cell_type": "code",
   "execution_count": 7,
   "id": "8f26968b-3029-4c41-80c6-dddb77f9c192",
   "metadata": {},
   "outputs": [],
   "source": [
    "domain_width = 0.4\n",
    "domain_height = 0.6\n",
    "no_of_elem_x = 5\n",
    "no_of_elem_y = 5\n",
    "nodes, connectivity_matrix = mesh_generator(domain_width, domain_height, no_of_elem_x, no_of_elem_y)"
   ]
  },
  {
   "cell_type": "code",
   "execution_count": 8,
   "id": "4518a122-bf86-4a11-b695-ebe5de321277",
   "metadata": {},
   "outputs": [],
   "source": [
    "def mesh_data_generator(points, triangles, num_x_div, num_y_div, width, height, filename='mesh_data'):\n",
    "    with open(filename+\".dat\", 'w') as f:\n",
    "        f.write(f\"TITLE = {file_name}\\n\")\n",
    "        f.write(f\"ELEMENTS = {len(triangles)}\\n\")\n",
    "        \n",
    "        for i, tri in enumerate(triangles, start=1):\n",
    "            f.write(f\"{i}\\t{tri[0]}\\t{tri[1]}\\t{tri[2]}\\t1.5\\n\")\n",
    "        \n",
    "        f.write(\"\\nNODE_COORDINATES = {}\\n\".format(len(points)))\n",
    "        \n",
    "        for i, point in enumerate(points, start=1):\n",
    "            f.write(f\"{i}\\t{point[0]}\\t{point[1]}\\t0.0\\n\")\n",
    "        \n",
    "        f.write(f\"\\nNODES_WITH_PRESCRIBED_TEMPERATURE = {(num_x_div + 1) * 2 + (num_y_div + 1)*2 - 4}\\n\")\n",
    "        \n",
    "        for i, point in enumerate(points, start = 1):\n",
    "            if point[0] == 0:\n",
    "                f.write(f\"{i}\\t180.000\\n\")\n",
    "                continue\n",
    "            if point[1] == 0:\n",
    "                f.write(f\"{i}\\t0.000\\n\")\n",
    "                continue\n",
    "            if point[0] == width:\n",
    "                f.write(f\"{i}\\t0.000\\n\")\n",
    "                continue\n",
    "            if point[1] == height:\n",
    "                f.write(f\"{i}\\t0.000\\n\")\n",
    "                continue\n",
    "        \n",
    "        f.write(\"\\nEDGES_WITH_PRESCRIBED_CONVECTION = 0\\n\")\n",
    "        f.write(\"\\nEDGES_WITH_PRESCRIBED_NON_ZERO_HEAT_FLUX = 0\\n\")\n",
    "\n",
    "    print(f\"Mesh data file generated: {filename}\")"
   ]
  },
  {
   "cell_type": "code",
   "execution_count": 9,
   "id": "8ca14371-f341-4251-b313-3591b07d5e79",
   "metadata": {},
   "outputs": [
    {
     "name": "stdout",
     "output_type": "stream",
     "text": [
      "Mesh data file generated: meshData1\n"
     ]
    }
   ],
   "source": [
    "domain_width = 0.4\n",
    "domain_height = 0.6\n",
    "no_of_elem_x = 10\n",
    "no_of_elem_y = 10\n",
    "nodes, connectivity_matrix = mesh_generator(domain_width, domain_height, no_of_elem_x, no_of_elem_y)\n",
    "file_name = \"meshData1\"\n",
    "mesh_data_generator(nodes, connectivity_matrix,no_of_elem_x, no_of_elem_y, domain_width, domain_height, file_name)"
   ]
  },
  {
   "cell_type": "code",
   "execution_count": 10,
   "id": "a240fd07-fb8a-45e8-af0f-a5d4d9e33973",
   "metadata": {},
   "outputs": [
    {
     "name": "stdout",
     "output_type": "stream",
     "text": [
      "Mesh data file generated: meshData2\n"
     ]
    }
   ],
   "source": [
    "domain_width = 0.4\n",
    "domain_height = 0.6\n",
    "no_of_elem_x = 10\n",
    "no_of_elem_y = 20\n",
    "nodes, connectivity_matrix = mesh_generator(domain_width, domain_height, no_of_elem_x, no_of_elem_y)\n",
    "file_name = \"meshData2\"\n",
    "mesh_data_generator(nodes, connectivity_matrix,no_of_elem_x, no_of_elem_y, domain_width, domain_height, file_name)"
   ]
  },
  {
   "cell_type": "code",
   "execution_count": 11,
   "id": "d96b049f-5957-4a7c-9c89-5a8c250d292d",
   "metadata": {},
   "outputs": [
    {
     "name": "stdout",
     "output_type": "stream",
     "text": [
      "Mesh data file generated: meshData3\n"
     ]
    }
   ],
   "source": [
    "domain_width = 0.4\n",
    "domain_height = 0.6\n",
    "no_of_elem_x = 10\n",
    "no_of_elem_y = 40\n",
    "nodes, connectivity_matrix = mesh_generator(domain_width, domain_height, no_of_elem_x, no_of_elem_y)\n",
    "file_name = \"meshData3\"\n",
    "mesh_data_generator(nodes, connectivity_matrix,no_of_elem_x, no_of_elem_y, domain_width, domain_height, file_name)"
   ]
  },
  {
   "cell_type": "code",
   "execution_count": 12,
   "id": "53d92d56-b788-468d-b8e6-80394257e37c",
   "metadata": {},
   "outputs": [],
   "source": [
    "def mesh_data_generator1(points, triangles, num_x_div, num_y_div, width, height, filename='mesh_data'):\n",
    "    with open(filename+\".dat\", 'w') as f:\n",
    "        f.write(f\"TITLE = {file_name}\\n\")\n",
    "        f.write(f\"ELEMENTS = {len(triangles)}\\n\")\n",
    "        \n",
    "        for i, tri in enumerate(triangles, start=1):\n",
    "            f.write(f\"{i}\\t{tri[0]}\\t{tri[1]}\\t{tri[2]}\\t1.5\\n\")\n",
    "        \n",
    "        f.write(\"\\nNODE_COORDINATES = {}\\n\".format(len(points)))\n",
    "        \n",
    "        for i, point in enumerate(points, start=1):\n",
    "            f.write(f\"{i}\\t{point[0]}\\t{point[1]}\\t0.0\\n\")\n",
    "        \n",
    "        f.write(f\"\\nNODES_WITH_PRESCRIBED_TEMPERATURE = {(num_y_div + 1)*2 }\\n\")\n",
    "        \n",
    "        for i, point in enumerate(points, start = 1):\n",
    "            if point[0] == 0:\n",
    "                f.write(f\"{i}\\t0.000\\n\")\n",
    "                continue\n",
    "            if point[0] == width:\n",
    "                f.write(f\"{i}\\t180.000\\n\")\n",
    "                continue\n",
    "        \n",
    "        f.write(\"\\nEDGES_WITH_PRESCRIBED_CONVECTION = 0\\n\")\n",
    "        f.write(\"\\nEDGES_WITH_PRESCRIBED_NON_ZERO_HEAT_FLUX = 0\\n\")\n",
    "\n",
    "    print(f\"Mesh data file generated: {filename}\")"
   ]
  },
  {
   "cell_type": "code",
   "execution_count": 14,
   "id": "b01865b3-0058-4f3a-9903-38cd7083a591",
   "metadata": {},
   "outputs": [
    {
     "name": "stdout",
     "output_type": "stream",
     "text": [
      "Mesh data file generated: meshData4\n"
     ]
    }
   ],
   "source": [
    "domain_width = 0.4\n",
    "domain_height = 0.6\n",
    "no_of_elem_x = 10\n",
    "no_of_elem_y = 10\n",
    "nodes, connectivity_matrix = mesh_generator(domain_width, domain_height, no_of_elem_x, no_of_elem_y)\n",
    "file_name = \"meshData4\"\n",
    "mesh_data_generator1(nodes, connectivity_matrix,no_of_elem_x, no_of_elem_y, domain_width, domain_height, file_name)"
   ]
  },
  {
   "cell_type": "code",
   "execution_count": null,
   "id": "8623b7ba-b0b0-414f-8a77-fda6dde572af",
   "metadata": {},
   "outputs": [],
   "source": []
  }
 ],
 "metadata": {
  "kernelspec": {
   "display_name": "Python 3 (ipykernel)",
   "language": "python",
   "name": "python3"
  },
  "language_info": {
   "codemirror_mode": {
    "name": "ipython",
    "version": 3
   },
   "file_extension": ".py",
   "mimetype": "text/x-python",
   "name": "python",
   "nbconvert_exporter": "python",
   "pygments_lexer": "ipython3",
   "version": "3.12.3"
  }
 },
 "nbformat": 4,
 "nbformat_minor": 5
}
